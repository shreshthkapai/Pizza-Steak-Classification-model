{
  "nbformat": 4,
  "nbformat_minor": 0,
  "metadata": {
    "colab": {
      "name": "pizza_steak",
      "provenance": [],
      "authorship_tag": "ABX9TyMHQDU+ygogXXUn0JZvZ53K",
      "include_colab_link": true
    },
    "kernelspec": {
      "name": "python3",
      "display_name": "Python 3"
    },
    "language_info": {
      "name": "python"
    },
    "accelerator": "GPU",
    "gpuClass": "standard"
  },
  "cells": [
    {
      "cell_type": "markdown",
      "metadata": {
        "id": "view-in-github",
        "colab_type": "text"
      },
      "source": [
        "<a href=\"https://colab.research.google.com/github/shreshthkapai/Pizza-Steak-Classification-model/blob/main/pizza_steak.ipynb\" target=\"_parent\"><img src=\"https://colab.research.google.com/assets/colab-badge.svg\" alt=\"Open In Colab\"/></a>"
      ]
    },
    {
      "cell_type": "code",
      "execution_count": 1,
      "metadata": {
        "id": "2pEukRtuMngp"
      },
      "outputs": [],
      "source": [
        "import tensorflow as tf"
      ]
    },
    {
      "cell_type": "code",
      "source": [
        "#Getting the sample data\n",
        "import zipfile\n",
        "!wget https://storage.googleapis.com/ztm_tf_course/food_vision/pizza_steak.zip\n",
        "#unzip the downloaded file\n",
        "zip_ref = zipfile.ZipFile(\"pizza_steak.zip\")\n",
        "zip_ref.extractall()\n",
        "zip_ref.close() "
      ],
      "metadata": {
        "colab": {
          "base_uri": "https://localhost:8080/"
        },
        "id": "w5_0hc_uYDdD",
        "outputId": "2d928b44-be9f-4f7a-be63-11c289e9413a"
      },
      "execution_count": 2,
      "outputs": [
        {
          "output_type": "stream",
          "name": "stdout",
          "text": [
            "--2022-08-17 08:58:33--  https://storage.googleapis.com/ztm_tf_course/food_vision/pizza_steak.zip\n",
            "Resolving storage.googleapis.com (storage.googleapis.com)... 142.251.10.128, 142.251.12.128, 172.217.194.128, ...\n",
            "Connecting to storage.googleapis.com (storage.googleapis.com)|142.251.10.128|:443... connected.\n",
            "HTTP request sent, awaiting response... 200 OK\n",
            "Length: 109540975 (104M) [application/zip]\n",
            "Saving to: ‘pizza_steak.zip’\n",
            "\n",
            "pizza_steak.zip     100%[===================>] 104.47M   190MB/s    in 0.5s    \n",
            "\n",
            "2022-08-17 08:58:34 (190 MB/s) - ‘pizza_steak.zip’ saved [109540975/109540975]\n",
            "\n"
          ]
        }
      ]
    },
    {
      "cell_type": "code",
      "source": [
        "#inspecting the data\n",
        "!ls pizza_steak"
      ],
      "metadata": {
        "colab": {
          "base_uri": "https://localhost:8080/"
        },
        "id": "hrM5aTJHbqmq",
        "outputId": "2fc8c371-9d9d-4f47-a29e-7a769da9d62c"
      },
      "execution_count": 3,
      "outputs": [
        {
          "output_type": "stream",
          "name": "stdout",
          "text": [
            "test  train\n"
          ]
        }
      ]
    },
    {
      "cell_type": "code",
      "source": [
        "!ls pizza_steak/train/"
      ],
      "metadata": {
        "colab": {
          "base_uri": "https://localhost:8080/"
        },
        "id": "RsqvanuZb4Bb",
        "outputId": "60f1c487-668d-44d1-c03b-b9e4287f1f57"
      },
      "execution_count": 4,
      "outputs": [
        {
          "output_type": "stream",
          "name": "stdout",
          "text": [
            "pizza  steak\n"
          ]
        }
      ]
    },
    {
      "cell_type": "code",
      "source": [
        "!ls pizza_steak/train/steak/"
      ],
      "metadata": {
        "id": "xIkTW62Sb_8Q"
      },
      "execution_count": null,
      "outputs": []
    },
    {
      "cell_type": "code",
      "source": [
        "import os\n",
        "for dirpaths, dirnames, filenames in os.walk(\"pizza_steak\"):\n",
        "  print(f\"There are {len(dirnames)} directories and {len(filenames)} images in '{dirpaths}'\")"
      ],
      "metadata": {
        "id": "9XpKwW13cLE7",
        "colab": {
          "base_uri": "https://localhost:8080/"
        },
        "outputId": "9ecc80a8-e6e5-4d6f-a8d0-3b87731c6254"
      },
      "execution_count": 6,
      "outputs": [
        {
          "output_type": "stream",
          "name": "stdout",
          "text": [
            "There are 2 directories and 0 images in 'pizza_steak'\n",
            "There are 2 directories and 0 images in 'pizza_steak/test'\n",
            "There are 0 directories and 250 images in 'pizza_steak/test/steak'\n",
            "There are 0 directories and 250 images in 'pizza_steak/test/pizza'\n",
            "There are 2 directories and 0 images in 'pizza_steak/train'\n",
            "There are 0 directories and 750 images in 'pizza_steak/train/steak'\n",
            "There are 0 directories and 750 images in 'pizza_steak/train/pizza'\n"
          ]
        }
      ]
    },
    {
      "cell_type": "code",
      "source": [
        "!ls -la pizza_steak"
      ],
      "metadata": {
        "id": "An2NAK0ng4ra"
      },
      "execution_count": null,
      "outputs": []
    },
    {
      "cell_type": "code",
      "source": [
        "#another way to find out how many images are in a file\n",
        "num_steak_images_train = len(os.listdir(\"pizza_steak/train/steak\"))\n",
        "num_steak_images_train"
      ],
      "metadata": {
        "id": "fhpsH-U3i4k0"
      },
      "execution_count": null,
      "outputs": []
    },
    {
      "cell_type": "code",
      "source": [
        "# To visualize our images, we need to get the class names programmatically\n",
        "import pathlib\n",
        "import numpy as np\n",
        "data_dir =  pathlib.Path(\"pizza_steak/train\")\n",
        "class_names = np.array(sorted([item.name for item in data_dir.glob(\"*\")]))\n",
        "print(data_dir)\n",
        "print(class_names)"
      ],
      "metadata": {
        "id": "WYlueHLLjL3E"
      },
      "execution_count": null,
      "outputs": []
    },
    {
      "cell_type": "code",
      "source": [
        "#visualizing our images\n",
        "import matplotlib.pyplot as plt\n",
        "import matplotlib.image as mpimg\n",
        "import random \n",
        "\n",
        "def view_random_image(target_dir, target_class):\n",
        "  #Setup the target directory(view images from here)\n",
        "  target_folder = target_dir + target_class\n",
        "  #Getting a random image path\n",
        "  random_image = random.sample(os.listdir(target_folder), 1)\n",
        "  #Reading the image and plotting it\n",
        "  img = mpimg.imread(target_folder + \"/\" + random_image[0])\n",
        "  plt.imshow(img)\n",
        "  plt.title(target_class)\n",
        "  plt.axis(\"off\")\n",
        "  print(f\"Image Shape: {img.shape}\") #shows the shape of the image\n",
        "  return img"
      ],
      "metadata": {
        "id": "qA333HGRmZYs"
      },
      "execution_count": 10,
      "outputs": []
    },
    {
      "cell_type": "code",
      "source": [
        "#Viewing a random image from the training dataset\n",
        "img = view_random_image(target_dir = \"pizza_steak/train/\", target_class= \"steak\")"
      ],
      "metadata": {
        "id": "f3PHo8QQohtP"
      },
      "execution_count": null,
      "outputs": []
    },
    {
      "cell_type": "code",
      "source": [
        "from tensorflow.keras.preprocessing.image import ImageDataGenerator\n",
        "\n",
        "#setting seed\n",
        "tf.random.set_seed(42)\n",
        "\n",
        "#pre processing data (normalizing it)\n",
        "pre_processed_train_data = ImageDataGenerator(rescale = 1/255.)\n",
        "pre_processed_validation_data = ImageDataGenerator(rescale = 1/255.)\n",
        "\n",
        "#setup paths to our data directories\n",
        "train_dir = \"pizza_steak/train\"\n",
        "test_dir = \"pizza_steak/test\"\n",
        "\n",
        "#Import data from directories and turn it into batches\n",
        "train_data = pre_processed_train_data.flow_from_directory(directory = train_dir,\n",
        "                                                          batch_size = 32,\n",
        "                                                          target_size = (224, 224),\n",
        "                                                          class_mode = \"binary\",\n",
        "                                                          seed = 42)\n",
        "\n",
        "validation_data = pre_processed_validation_data.flow_from_directory(directory = test_dir,\n",
        "                                                                    batch_size = 32,\n",
        "                                                                    target_size = (224, 224),\n",
        "                                                                    class_mode = \"binary\",\n",
        "                                                                    seed = 42)"
      ],
      "metadata": {
        "id": "HSTV0LpA2UUl",
        "colab": {
          "base_uri": "https://localhost:8080/"
        },
        "outputId": "eb684731-0b38-4593-97af-821b73fb6d50"
      },
      "execution_count": 85,
      "outputs": [
        {
          "output_type": "stream",
          "name": "stdout",
          "text": [
            "Found 1500 images belonging to 2 classes.\n",
            "Found 500 images belonging to 2 classes.\n"
          ]
        }
      ]
    },
    {
      "cell_type": "code",
      "source": [
        "plt.figure()\n",
        "plt.subplot(1, 2, 1)\n",
        "steak_img = view_random_image(\"pizza_steak/train/\", \"steak\")\n",
        "plt.subplot(1, 2, 2)\n",
        "pizza_img = view_random_image(\"pizza_steak/train/\", \"pizza\")  "
      ],
      "metadata": {
        "id": "T4G-WcAcU-rz"
      },
      "execution_count": null,
      "outputs": []
    },
    {
      "cell_type": "code",
      "source": [
        "import pandas as pd"
      ],
      "metadata": {
        "id": "eGTGgF9JNSTl"
      },
      "execution_count": 17,
      "outputs": []
    },
    {
      "cell_type": "code",
      "source": [
        "pd.DataFrame(history.history).plot(figsize = (10, 7))"
      ],
      "metadata": {
        "id": "FCRvSjTpNUvY"
      },
      "execution_count": null,
      "outputs": []
    },
    {
      "cell_type": "code",
      "source": [
        "def plot_loss_curves(history):\n",
        "    loss = history.history[\"loss\"]\n",
        "    val_loss = history.history[\"val_loss\"]\n",
        "\n",
        "    accuracy = history.history[\"accuracy\"]\n",
        "    val_accuracy = history.history[\"val_accuracy\"]\n",
        "\n",
        "    epochs = range(len(history.history[\"loss\"]))\n",
        "\n",
        "    plt.plot(epochs, loss, label = \"training_loss\")\n",
        "    plt.plot(epochs, val_loss, label = \"val_loss\")\n",
        "    plt.title(\"loss\")\n",
        "    plt.xlabel(\"epochs\")\n",
        "    plt.legend()\n",
        "\n",
        "    plt.figure()\n",
        "    plt.plot(epochs, accuracy, label = \"training_accuracy\")\n",
        "    plt.plot(epochs, val_accuracy, label = \"val_accuracy\")\n",
        "    plt.title(\"loss\")\n",
        "    plt.xlabel(\"epochs\")\n",
        "    plt.legend()\n"
      ],
      "metadata": {
        "id": "dUyPQa3_PVZT"
      },
      "execution_count": 84,
      "outputs": []
    },
    {
      "cell_type": "code",
      "source": [
        "# When the training loss is decreasing and the validation loss is increasing it means that the model is overfitting\n",
        "# reducing over-fitting is also known as regularization"
      ],
      "metadata": {
        "id": "ij5Wy6LZoyS8"
      },
      "execution_count": 23,
      "outputs": []
    },
    {
      "cell_type": "code",
      "source": [
        "# Create ImageDataGenerator training instance with data augmentation\n",
        "train_data_augmented_generator = ImageDataGenerator(rescale = 1/255.,\n",
        "                                          rotation_range = 0.2,\n",
        "                                          shear_range = 0.2,\n",
        "                                          zoom_range = 0.2,\n",
        "                                          width_shift_range = 0.2,\n",
        "                                          height_shift_range = 0.3,\n",
        "                                          horizontal_flip = True)\n",
        "\n",
        "# Create ImageDataGenerator without data augmentation for train data\n",
        "non_augmented_train_data_generator = ImageDataGenerator(rescale = 1/255.)\n",
        "\n",
        "# Create ImageDataGenerator without data augmentation for test data\n",
        "non_augmented_test_data_generator = ImageDataGenerator(rescale = 1/255.)"
      ],
      "metadata": {
        "id": "eHuR8s6aw0rV"
      },
      "execution_count": 28,
      "outputs": []
    },
    {
      "cell_type": "code",
      "source": [
        "print(train_data)"
      ],
      "metadata": {
        "colab": {
          "base_uri": "https://localhost:8080/"
        },
        "id": "ZPvX8OsQ2FSw",
        "outputId": "065cf759-a0ad-4f08-fd1c-db15179db0d7"
      },
      "execution_count": 88,
      "outputs": [
        {
          "output_type": "stream",
          "name": "stdout",
          "text": [
            "<keras.preprocessing.image.DirectoryIterator object at 0x7ff188fcee10>\n"
          ]
        }
      ]
    },
    {
      "cell_type": "code",
      "source": [
        "print(\"Augmented training data\")\n",
        "augmented_train_data = train_data_augmented_generator.flow_from_directory(train_dir,\n",
        "                                                                          target_size = (224, 224),\n",
        "                                                                          batch_size = 32,\n",
        "                                                                          class_mode = \"binary\",\n",
        "                                                                          shuffle = False)\n",
        "\n",
        "print(\"Non Augmented training data\")\n",
        "non_augmented_train_data = non_augmented_train_data_generator.flow_from_directory(train_dir,\n",
        "                                                                                  target_size = (224, 224),\n",
        "                                                                                  batch_size = 32,\n",
        "                                                                                  class_mode = \"binary\",\n",
        "                                                                                  shuffle = False)\n",
        "\n",
        "print(\"Non Augmented test data\")\n",
        "non_augmented_test_data = non_augmented_test_data_generator.flow_from_directory(test_dir,\n",
        "                                                                                target_size = (224, 224),\n",
        "                                                                                batch_size = 32,\n",
        "                                                                                class_mode = \"binary\",\n",
        "                                                                                shuffle = False)"
      ],
      "metadata": {
        "colab": {
          "base_uri": "https://localhost:8080/"
        },
        "id": "wIdDDe2E0vyo",
        "outputId": "206923af-2ed9-4df1-b47c-82a38b923278"
      },
      "execution_count": 30,
      "outputs": [
        {
          "output_type": "stream",
          "name": "stdout",
          "text": [
            "Augmented training data\n",
            "Found 1500 images belonging to 2 classes.\n",
            "Non Augmented training data\n",
            "Found 1500 images belonging to 2 classes.\n",
            "Non Augmented test data\n",
            "Found 500 images belonging to 2 classes.\n"
          ]
        }
      ]
    },
    {
      "cell_type": "code",
      "source": [
        "#get sample data batches\n",
        "images, labels = non_augmented_train_data.next()\n",
        "augmented_image, augmented_image_lables = augmented_train_data.next()"
      ],
      "metadata": {
        "id": "RLTPcV8I5Wjt"
      },
      "execution_count": 31,
      "outputs": []
    },
    {
      "cell_type": "code",
      "source": [
        "random_number = random.randint(0, 32)\n",
        "print(f\"Showing image number: {random_number}\")\n",
        "plt.imshow(images[random_number])\n",
        "plt.title(f\"Original image\")\n",
        "plt.axis(False)\n",
        "plt.figure()\n",
        "plt.imshow(augmented_image[random_number])\n",
        "plt.title(f\"Augmented image\")\n",
        "plt.axis(False)"
      ],
      "metadata": {
        "id": "cC7pWibK6VU8"
      },
      "execution_count": null,
      "outputs": []
    },
    {
      "cell_type": "code",
      "source": [
        "augmented_train_data_shuffled = train_data_augmented_generator.flow_from_directory(train_dir, target_size = (224, 224), class_mode = \"binary\", shuffle = True)"
      ],
      "metadata": {
        "colab": {
          "base_uri": "https://localhost:8080/"
        },
        "id": "F1A0lfON90Ol",
        "outputId": "db665227-4415-4946-8a43-e3ee84f29c92"
      },
      "execution_count": 34,
      "outputs": [
        {
          "output_type": "stream",
          "name": "stdout",
          "text": [
            "Found 1500 images belonging to 2 classes.\n"
          ]
        }
      ]
    },
    {
      "cell_type": "code",
      "source": [
        "tf.random.set_seed(42)\n",
        "model_1 = Sequential([Conv2D(10, 3, activation = \"relu\", input_shape = (224, 224, 3)),\n",
        "                      MaxPool2D(pool_size = 2),\n",
        "                      Conv2D(10, 3, activation = \"relu\"),\n",
        "                      MaxPool2D(),\n",
        "                      Conv2D(10, 3, activation = \"relu\"),\n",
        "                      MaxPool2D(),\n",
        "                      Flatten(),\n",
        "                      Dense(1, activation = \"sigmoid\")\n",
        "    ])\n",
        "\n",
        "model_1.compile(loss = \"binary_crossentropy\",\n",
        "                optimizer = Adam(),\n",
        "                metrics = [\"accuracy\"])\n",
        "\n",
        "history = model_1.fit(augmented_train_data_shuffled, epochs = 5, steps_per_epoch = len(augmented_train_data_shuffled), validation_data = validation_data, validation_steps = len(validation_data))"
      ],
      "metadata": {
        "colab": {
          "base_uri": "https://localhost:8080/"
        },
        "id": "xjm6TPwD-aUc",
        "outputId": "d447cb86-9140-4f0e-ad05-c627cfbfe2f1"
      },
      "execution_count": 87,
      "outputs": [
        {
          "output_type": "stream",
          "name": "stdout",
          "text": [
            "Epoch 1/5\n",
            "47/47 [==============================] - 24s 510ms/step - loss: 0.6453 - accuracy: 0.6113 - val_loss: 0.5136 - val_accuracy: 0.7740\n",
            "Epoch 2/5\n",
            "47/47 [==============================] - 23s 482ms/step - loss: 0.5376 - accuracy: 0.7320 - val_loss: 0.3671 - val_accuracy: 0.8500\n",
            "Epoch 3/5\n",
            "47/47 [==============================] - 23s 483ms/step - loss: 0.4946 - accuracy: 0.7627 - val_loss: 0.3472 - val_accuracy: 0.8520\n",
            "Epoch 4/5\n",
            "47/47 [==============================] - 23s 483ms/step - loss: 0.4885 - accuracy: 0.7540 - val_loss: 0.3677 - val_accuracy: 0.8300\n",
            "Epoch 5/5\n",
            "47/47 [==============================] - 23s 480ms/step - loss: 0.4644 - accuracy: 0.7967 - val_loss: 0.3179 - val_accuracy: 0.8620\n"
          ]
        }
      ]
    },
    {
      "cell_type": "code",
      "source": [
        "plot_loss_curves(history)"
      ],
      "metadata": {
        "colab": {
          "base_uri": "https://localhost:8080/",
          "height": 573
        },
        "id": "kinWvLM5CS3Q",
        "outputId": "0dff7697-4ddb-443e-bc96-2518b9209488"
      },
      "execution_count": 89,
      "outputs": [
        {
          "output_type": "display_data",
          "data": {
            "text/plain": [
              "<Figure size 432x288 with 1 Axes>"
            ],
            "image/png": "[encoded data removed]"
          },
          "metadata": {
            "needs_background": "light"
          }
        },
        {
          "output_type": "display_data",
          "data": {
            "text/plain": [
              "<Figure size 432x288 with 1 Axes>"
            ],
            "image/png": "[encoded data removed]"
          },
          "metadata": {
            "needs_background": "light"
          }
        }
      ]
    },
    {
      "cell_type": "code",
      "source": [
        "# Create a function to import a custom image and resie it to be able to use it with our \n",
        "def load_and_prep_image(filename, img_size = (224)):\n",
        "  \"\"\"\n",
        "  Reads an image from the filename, turns it into a tensor and reshapes it\n",
        "  \"\"\" \n",
        "  #default img size \n",
        "  img_size = (224)\n",
        "\n",
        "  #Read the image\n",
        "  img = tf.io.read_file(filename)\n",
        "\n",
        "  #Decode the image into a tensor\n",
        "  img = tf.image.decode_image(img)\n",
        "\n",
        "  #Resize the image \n",
        "  img = tf.image.resize(img, size = [img_size, img_size])\n",
        "\n",
        "  #Rescale the image\n",
        "  img = img/255.\n",
        "\n",
        "  return img"
      ],
      "metadata": {
        "id": "DcJgEoD7HQk_"
      },
      "execution_count": 63,
      "outputs": []
    },
    {
      "cell_type": "code",
      "source": [
        "def predict_and_plot_img(filename):\n",
        "\n",
        "  #Import target image and prep it\n",
        "  img = load_and_prep_image(filename)\n",
        "\n",
        "  #Make a prediction\n",
        "  pred = model_6.predict(tf.expand_dims(img, axis = 0))\n",
        "\n",
        "  #Get the predicted class\n",
        "  class_name = class_names[int(tf.round(pred))]\n",
        "\n",
        "  #plot the image and image class\n",
        "  plt.imshow(img)\n",
        "  plt.title(f\"Prediction: {class_name}\")\n",
        "  plt.axis(False)"
      ],
      "metadata": {
        "id": "cU5u-Y9oHbSN"
      },
      "execution_count": 80,
      "outputs": []
    },
    {
      "cell_type": "code",
      "source": [
        "pred1 = predict_and_plot_img(\"/pizza_2.jpg\")"
      ],
      "metadata": {
        "id": "8QCPcR_YIkfM"
      },
      "execution_count": null,
      "outputs": []
    }
  ]
}